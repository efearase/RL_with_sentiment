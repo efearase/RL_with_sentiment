{
 "cells": [
  {
   "cell_type": "markdown",
   "id": "09203ede",
   "metadata": {
    "colab_type": "text",
    "id": "view-in-github"
   },
   "source": [
    "<a href=\"https://colab.research.google.com/github/efearase/RL_with_sentiment/blob/main/pulse_parsin.ipynb\" target=\"_parent\"><img src=\"https://colab.research.google.com/assets/colab-badge.svg\" alt=\"Open In Colab\"/></a>"
   ]
  },
  {
   "cell_type": "code",
   "execution_count": 1,
   "id": "012786cf",
   "metadata": {},
   "outputs": [
    {
     "name": "stdout",
     "output_type": "stream",
     "text": [
      "Requirement already satisfied: httpx in /Users/gosa/Desktop/conda/miniconda3/envs/myenv/lib/python3.11/site-packages (from -r requirements.txt (line 1)) (0.26.0)\n",
      "Requirement already satisfied: moexalgo in /Users/gosa/Desktop/conda/miniconda3/envs/myenv/lib/python3.11/site-packages (from -r requirements.txt (line 2)) (1.0.1)\n",
      "Requirement already satisfied: tpulse in /Users/gosa/Desktop/conda/miniconda3/envs/myenv/lib/python3.11/site-packages (from -r requirements.txt (line 3)) (0.1.9)\n",
      "Requirement already satisfied: dostoevsky in /Users/gosa/Desktop/conda/miniconda3/envs/myenv/lib/python3.11/site-packages (from -r requirements.txt (line 4)) (0.6.0)\n",
      "Requirement already satisfied: transformers in /Users/gosa/Desktop/conda/miniconda3/envs/myenv/lib/python3.11/site-packages (from -r requirements.txt (line 5)) (4.38.2)\n",
      "Requirement already satisfied: gym in /Users/gosa/Desktop/conda/miniconda3/envs/myenv/lib/python3.11/site-packages (from -r requirements.txt (line 6)) (0.26.2)\n",
      "Requirement already satisfied: stable_baselines3 in /Users/gosa/Desktop/conda/miniconda3/envs/myenv/lib/python3.11/site-packages (from -r requirements.txt (line 7)) (2.2.1)\n",
      "Requirement already satisfied: anyio in /Users/gosa/Desktop/conda/miniconda3/envs/myenv/lib/python3.11/site-packages (from httpx->-r requirements.txt (line 1)) (3.5.0)\n",
      "Requirement already satisfied: certifi in /Users/gosa/Desktop/conda/miniconda3/envs/myenv/lib/python3.11/site-packages (from httpx->-r requirements.txt (line 1)) (2023.7.22)\n",
      "Requirement already satisfied: httpcore==1.* in /Users/gosa/Desktop/conda/miniconda3/envs/myenv/lib/python3.11/site-packages (from httpx->-r requirements.txt (line 1)) (1.0.2)\n",
      "Requirement already satisfied: idna in /Users/gosa/Desktop/conda/miniconda3/envs/myenv/lib/python3.11/site-packages (from httpx->-r requirements.txt (line 1)) (3.4)\n",
      "Requirement already satisfied: sniffio in /Users/gosa/Desktop/conda/miniconda3/envs/myenv/lib/python3.11/site-packages (from httpx->-r requirements.txt (line 1)) (1.3.0)\n",
      "Requirement already satisfied: h11<0.15,>=0.13 in /Users/gosa/Desktop/conda/miniconda3/envs/myenv/lib/python3.11/site-packages (from httpcore==1.*->httpx->-r requirements.txt (line 1)) (0.14.0)\n",
      "Requirement already satisfied: fake_useragent>=0.1.11 in /Users/gosa/Desktop/conda/miniconda3/envs/myenv/lib/python3.11/site-packages (from tpulse->-r requirements.txt (line 3)) (1.4.0)\n",
      "Requirement already satisfied: fasttext==0.9.2 in /Users/gosa/Desktop/conda/miniconda3/envs/myenv/lib/python3.11/site-packages (from dostoevsky->-r requirements.txt (line 4)) (0.9.2)\n",
      "Requirement already satisfied: razdel==0.5.0 in /Users/gosa/Desktop/conda/miniconda3/envs/myenv/lib/python3.11/site-packages (from dostoevsky->-r requirements.txt (line 4)) (0.5.0)\n",
      "Requirement already satisfied: pybind11>=2.2 in /Users/gosa/Desktop/conda/miniconda3/envs/myenv/lib/python3.11/site-packages (from fasttext==0.9.2->dostoevsky->-r requirements.txt (line 4)) (2.11.1)\n",
      "Requirement already satisfied: setuptools>=0.7.0 in /Users/gosa/Desktop/conda/miniconda3/envs/myenv/lib/python3.11/site-packages (from fasttext==0.9.2->dostoevsky->-r requirements.txt (line 4)) (68.0.0)\n",
      "Requirement already satisfied: numpy in /Users/gosa/Desktop/conda/miniconda3/envs/myenv/lib/python3.11/site-packages (from fasttext==0.9.2->dostoevsky->-r requirements.txt (line 4)) (1.26.0)\n",
      "Requirement already satisfied: filelock in /Users/gosa/Desktop/conda/miniconda3/envs/myenv/lib/python3.11/site-packages (from transformers->-r requirements.txt (line 5)) (3.13.1)\n",
      "Requirement already satisfied: huggingface-hub<1.0,>=0.19.3 in /Users/gosa/Desktop/conda/miniconda3/envs/myenv/lib/python3.11/site-packages (from transformers->-r requirements.txt (line 5)) (0.21.3)\n",
      "Requirement already satisfied: packaging>=20.0 in /Users/gosa/Desktop/conda/miniconda3/envs/myenv/lib/python3.11/site-packages (from transformers->-r requirements.txt (line 5)) (23.1)\n",
      "Requirement already satisfied: pyyaml>=5.1 in /Users/gosa/Desktop/conda/miniconda3/envs/myenv/lib/python3.11/site-packages (from transformers->-r requirements.txt (line 5)) (6.0)\n",
      "Requirement already satisfied: regex!=2019.12.17 in /Users/gosa/Desktop/conda/miniconda3/envs/myenv/lib/python3.11/site-packages (from transformers->-r requirements.txt (line 5)) (2023.10.3)\n",
      "Requirement already satisfied: requests in /Users/gosa/Desktop/conda/miniconda3/envs/myenv/lib/python3.11/site-packages (from transformers->-r requirements.txt (line 5)) (2.31.0)\n",
      "Requirement already satisfied: tokenizers<0.19,>=0.14 in /Users/gosa/Desktop/conda/miniconda3/envs/myenv/lib/python3.11/site-packages (from transformers->-r requirements.txt (line 5)) (0.15.2)\n",
      "Requirement already satisfied: safetensors>=0.4.1 in /Users/gosa/Desktop/conda/miniconda3/envs/myenv/lib/python3.11/site-packages (from transformers->-r requirements.txt (line 5)) (0.4.2)\n",
      "Requirement already satisfied: tqdm>=4.27 in /Users/gosa/Desktop/conda/miniconda3/envs/myenv/lib/python3.11/site-packages (from transformers->-r requirements.txt (line 5)) (4.66.1)\n",
      "Requirement already satisfied: cloudpickle>=1.2.0 in /Users/gosa/Desktop/conda/miniconda3/envs/myenv/lib/python3.11/site-packages (from gym->-r requirements.txt (line 6)) (2.2.1)\n",
      "Requirement already satisfied: gym-notices>=0.0.4 in /Users/gosa/Desktop/conda/miniconda3/envs/myenv/lib/python3.11/site-packages (from gym->-r requirements.txt (line 6)) (0.0.8)\n",
      "Requirement already satisfied: gymnasium<0.30,>=0.28.1 in /Users/gosa/Desktop/conda/miniconda3/envs/myenv/lib/python3.11/site-packages (from stable_baselines3->-r requirements.txt (line 7)) (0.29.1)\n",
      "Requirement already satisfied: torch>=1.13 in /Users/gosa/Desktop/conda/miniconda3/envs/myenv/lib/python3.11/site-packages (from stable_baselines3->-r requirements.txt (line 7)) (2.1.0)\n",
      "Requirement already satisfied: pandas in /Users/gosa/Desktop/conda/miniconda3/envs/myenv/lib/python3.11/site-packages (from stable_baselines3->-r requirements.txt (line 7)) (2.1.1)\n",
      "Requirement already satisfied: matplotlib in /Users/gosa/Desktop/conda/miniconda3/envs/myenv/lib/python3.11/site-packages (from stable_baselines3->-r requirements.txt (line 7)) (3.8.0)\n",
      "Requirement already satisfied: typing-extensions>=4.3.0 in /Users/gosa/Desktop/conda/miniconda3/envs/myenv/lib/python3.11/site-packages (from gymnasium<0.30,>=0.28.1->stable_baselines3->-r requirements.txt (line 7)) (4.9.0)\n",
      "Requirement already satisfied: farama-notifications>=0.0.1 in /Users/gosa/Desktop/conda/miniconda3/envs/myenv/lib/python3.11/site-packages (from gymnasium<0.30,>=0.28.1->stable_baselines3->-r requirements.txt (line 7)) (0.0.4)\n",
      "Requirement already satisfied: fsspec>=2023.5.0 in /Users/gosa/Desktop/conda/miniconda3/envs/myenv/lib/python3.11/site-packages (from huggingface-hub<1.0,>=0.19.3->transformers->-r requirements.txt (line 5)) (2023.10.0)\n",
      "Requirement already satisfied: sympy in /Users/gosa/Desktop/conda/miniconda3/envs/myenv/lib/python3.11/site-packages (from torch>=1.13->stable_baselines3->-r requirements.txt (line 7)) (1.12)\n",
      "Requirement already satisfied: networkx in /Users/gosa/Desktop/conda/miniconda3/envs/myenv/lib/python3.11/site-packages (from torch>=1.13->stable_baselines3->-r requirements.txt (line 7)) (3.1)\n",
      "Requirement already satisfied: jinja2 in /Users/gosa/Desktop/conda/miniconda3/envs/myenv/lib/python3.11/site-packages (from torch>=1.13->stable_baselines3->-r requirements.txt (line 7)) (3.1.2)\n",
      "Requirement already satisfied: contourpy>=1.0.1 in /Users/gosa/Desktop/conda/miniconda3/envs/myenv/lib/python3.11/site-packages (from matplotlib->stable_baselines3->-r requirements.txt (line 7)) (1.1.1)\n",
      "Requirement already satisfied: cycler>=0.10 in /Users/gosa/Desktop/conda/miniconda3/envs/myenv/lib/python3.11/site-packages (from matplotlib->stable_baselines3->-r requirements.txt (line 7)) (0.11.0)\n",
      "Requirement already satisfied: fonttools>=4.22.0 in /Users/gosa/Desktop/conda/miniconda3/envs/myenv/lib/python3.11/site-packages (from matplotlib->stable_baselines3->-r requirements.txt (line 7)) (4.42.1)\n",
      "Requirement already satisfied: kiwisolver>=1.0.1 in /Users/gosa/Desktop/conda/miniconda3/envs/myenv/lib/python3.11/site-packages (from matplotlib->stable_baselines3->-r requirements.txt (line 7)) (1.4.5)\n",
      "Requirement already satisfied: pillow>=6.2.0 in /Users/gosa/Desktop/conda/miniconda3/envs/myenv/lib/python3.11/site-packages (from matplotlib->stable_baselines3->-r requirements.txt (line 7)) (10.0.1)\n",
      "Requirement already satisfied: pyparsing>=2.3.1 in /Users/gosa/Desktop/conda/miniconda3/envs/myenv/lib/python3.11/site-packages (from matplotlib->stable_baselines3->-r requirements.txt (line 7)) (3.1.1)\n",
      "Requirement already satisfied: python-dateutil>=2.7 in /Users/gosa/Desktop/conda/miniconda3/envs/myenv/lib/python3.11/site-packages (from matplotlib->stable_baselines3->-r requirements.txt (line 7)) (2.8.2)\n"
     ]
    },
    {
     "name": "stdout",
     "output_type": "stream",
     "text": [
      "Requirement already satisfied: pytz>=2020.1 in /Users/gosa/Desktop/conda/miniconda3/envs/myenv/lib/python3.11/site-packages (from pandas->stable_baselines3->-r requirements.txt (line 7)) (2023.3.post1)\n",
      "Requirement already satisfied: tzdata>=2022.1 in /Users/gosa/Desktop/conda/miniconda3/envs/myenv/lib/python3.11/site-packages (from pandas->stable_baselines3->-r requirements.txt (line 7)) (2023.3)\n",
      "Requirement already satisfied: charset-normalizer<4,>=2 in /Users/gosa/Desktop/conda/miniconda3/envs/myenv/lib/python3.11/site-packages (from requests->transformers->-r requirements.txt (line 5)) (2.0.4)\n",
      "Requirement already satisfied: urllib3<3,>=1.21.1 in /Users/gosa/Desktop/conda/miniconda3/envs/myenv/lib/python3.11/site-packages (from requests->transformers->-r requirements.txt (line 5)) (1.26.16)\n",
      "Requirement already satisfied: six>=1.5 in /Users/gosa/Desktop/conda/miniconda3/envs/myenv/lib/python3.11/site-packages (from python-dateutil>=2.7->matplotlib->stable_baselines3->-r requirements.txt (line 7)) (1.16.0)\n",
      "Requirement already satisfied: MarkupSafe>=2.0 in /Users/gosa/Desktop/conda/miniconda3/envs/myenv/lib/python3.11/site-packages (from jinja2->torch>=1.13->stable_baselines3->-r requirements.txt (line 7)) (2.1.1)\n",
      "Requirement already satisfied: mpmath>=0.19 in /Users/gosa/Desktop/conda/miniconda3/envs/myenv/lib/python3.11/site-packages (from sympy->torch>=1.13->stable_baselines3->-r requirements.txt (line 7)) (1.3.0)\n"
     ]
    }
   ],
   "source": [
    "!pip install -r requirements.txt"
   ]
  },
  {
   "cell_type": "code",
   "execution_count": 2,
   "id": "a8c5ea3e",
   "metadata": {
    "id": "a8c5ea3e"
   },
   "outputs": [],
   "source": [
    "import pandas as pd\n",
    "import numpy as np\n",
    "import matplotlib.pyplot as plt\n",
    "from httpx import ReadTimeout\n",
    "from tpulse import TinkoffPulse\n",
    "from httpx import HTTPStatusError\n",
    "import time\n",
    "import os\n",
    "from IPython.display import clear_output\n",
    "from pprint import pp\n",
    "from dostoevsky.tokenization import RegexTokenizer\n",
    "from dostoevsky.models import FastTextSocialNetworkModel"
   ]
  },
  {
   "cell_type": "code",
   "execution_count": 3,
   "id": "a0232bdc",
   "metadata": {
    "id": "a0232bdc"
   },
   "outputs": [],
   "source": [
    "names = pd.read_csv('Export_ru_securities-list_20240129.csv', encoding='windows-1251', delimiter=';', quotechar='\"')"
   ]
  },
  {
   "cell_type": "code",
   "execution_count": 4,
   "id": "9fec2c5b",
   "metadata": {
    "id": "9fec2c5b",
    "scrolled": true
   },
   "outputs": [],
   "source": [
    "codes = names[((names['LIST_SECTION']=='Первый уровень')) & (names['SUPERTYPE']=='Акции')]['TRADE_CODE'].dropna()"
   ]
  },
  {
   "cell_type": "code",
   "execution_count": 5,
   "id": "058820fa",
   "metadata": {
    "id": "058820fa",
    "outputId": "1b1c4bcf-eb9a-409a-d111-d06b0991d593"
   },
   "outputs": [
    {
     "data": {
      "text/plain": [
       "Timestamp('2024-03-01 12:57:20.257484032')"
      ]
     },
     "execution_count": 5,
     "metadata": {},
     "output_type": "execute_result"
    }
   ],
   "source": [
    "date = pd.to_datetime(time.time(), unit='s')\n",
    "date"
   ]
  },
  {
   "cell_type": "code",
   "execution_count": 6,
   "id": "e8ffd3e9",
   "metadata": {
    "id": "e8ffd3e9"
   },
   "outputs": [],
   "source": [
    "def datareader_optimized(ticker):\n",
    "    cursor = 999999999\n",
    "    t_0 = time.time()\n",
    "    KEYS = [\"id\", \"nickname\", \"content\", \"inserted\"]\n",
    "    date = pd.to_datetime(time.time(), unit='s').tz_localize('UTC')\n",
    "    fin_date = pd.to_datetime('2022-03-29').tz_localize('UTC')\n",
    "    pulse = TinkoffPulse()  # Assuming this is defined elsewhere\n",
    "\n",
    "    # Initialize an empty DataFrame with specified types if possible\n",
    "    base_df = pd.DataFrame(columns=[\"id\", \"nickname\", \"text\", \"inserted\"])\n",
    "\n",
    "    while date >= fin_date:\n",
    "        try:\n",
    "            if time.time() - t_0 > 1:\n",
    "                print(f\"{date}, {ticker}\")\n",
    "                clear_output(wait=True)\n",
    "                t_0 = time.time()\n",
    "            response = pulse.get_posts_by_ticker(ticker, cursor)\n",
    "            cursor = response[\"nextCursor\"]\n",
    "            posts = response[\"items\"]\n",
    "\n",
    "            chunk_data = []\n",
    "            for post in posts:\n",
    "                data = {key: post[key] for key in KEYS if key in post}\n",
    "                data['text'] = data['content'].get('text', None) if isinstance(data.get('content'), dict) else None\n",
    "                data['inserted'] = pd.to_datetime(data['inserted']).strftime('%Y-%m-%d')\n",
    "                del data['content']\n",
    "                chunk_data.append(data)\n",
    "                date = pd.to_datetime(post['inserted'])\n",
    "            if chunk_data:\n",
    "                chunk_df = pd.DataFrame(chunk_data)\n",
    "                base_df = pd.concat([base_df, chunk_df], ignore_index=True)\n",
    "\n",
    "        except (HTTPStatusError, TimeoutError, KeyError, ReadTimeout, NameError, TypeError) as e:\n",
    "            print(f\"Encountered an error: {e}. Continuing...\")\n",
    "            date = pd.to_datetime(date.timestamp() - 24 * 60 * 60, unit = 's').tz_localize('UTC')\n",
    "            pass\n",
    "\n",
    "        time.sleep(0.25)\n",
    "\n",
    "    base_df.to_csv(f\"data/text_{ticker}.csv\", index=False)\n",
    "    users = base_df['nickname'].unique()\n",
    "\n",
    "    return users"
   ]
  },
  {
   "cell_type": "code",
   "execution_count": null,
   "id": "7f135db0-d712-4d6e-af4e-3d3c875cbf22",
   "metadata": {
    "id": "7f135db0-d712-4d6e-af4e-3d3c875cbf22"
   },
   "outputs": [],
   "source": []
  },
  {
   "cell_type": "code",
   "execution_count": 7,
   "id": "6558b1b9-d347-4c95-a4fa-fdc0712241fd",
   "metadata": {
    "id": "6558b1b9-d347-4c95-a4fa-fdc0712241fd"
   },
   "outputs": [],
   "source": [
    "def check(name):\n",
    "    for file in os.listdir('data'):\n",
    "        if name in file:\n",
    "            return 1\n",
    "    return 0"
   ]
  },
  {
   "cell_type": "code",
   "execution_count": null,
   "id": "1487aaf5",
   "metadata": {
    "id": "1487aaf5",
    "outputId": "b396598c-5d18-4107-b4e3-9d4bde51462d",
    "scrolled": true
   },
   "outputs": [
    {
     "name": "stdout",
     "output_type": "stream",
     "text": [
      "2023-09-05 11:56:20.346000+03:00, YNDX\n"
     ]
    }
   ],
   "source": [
    "users_set = set()  # Use a set to automatically handle unique entries\n",
    "for code in codes:\n",
    "    if not check(code):  # Assuming check is a function defined elsewhere\n",
    "        new_users = datareader_optimized(code)  # Collect new users from the optimized function\n",
    "        users_set.update(new_users)  # Efficiently add new users, automatically avoiding duplicates\n",
    "\n",
    "users = list(users_set)"
   ]
  },
  {
   "cell_type": "code",
   "execution_count": null,
   "id": "6ca0d12e",
   "metadata": {
    "id": "6ca0d12e",
    "outputId": "ee2ce396-b2a8-47ad-8462-99c16abaed17",
    "scrolled": true
   },
   "outputs": [],
   "source": [
    "user_info = pulse.get_user_info(users[0])\n",
    "print(user_info['followersCount'])\n",
    "if 'statistics' in user_info.keys():\n",
    "    print(user_info['statistics']['yearRelativeYield'])"
   ]
  },
  {
   "cell_type": "code",
   "execution_count": null,
   "id": "65435ced",
   "metadata": {
    "id": "65435ced"
   },
   "outputs": [],
   "source": [
    "retries = 5\n",
    "yields = []\n",
    "followers = []\n",
    "\n",
    "for attempt in range(retries):\n",
    "    try:\n",
    "        for user in users:\n",
    "            user_info = pulse.get_user_info(user)\n",
    "            followers.append(user_info['followersCount'])\n",
    "            if 'statistics' in user_info.keys():\n",
    "                yields.append(user_info['statistics']['yearRelativeYield'])\n",
    "\n",
    "    except ReadTimeout or ValueError or TimeoutError:\n",
    "        print(f\"Request timed out. Attempt {attempt+1} of {retries}. Retrying...\")\n",
    "        if attempt == retries - 1:\n",
    "            print(\"Final attempt failed. Moving on to the next ticker...\")\n",
    "            pass\n",
    "        time.sleep(some_seconds)\n",
    "    except Exception as e:\n",
    "        print(f\"An error occurred: {e}\")\n",
    "        break\n",
    "\n",
    "users_info = pd.DataFrame({'users': users, 'yields': yields, 'followers': followers})\n",
    "\n",
    "users_info.to_csv(\"users_info.csv\")"
   ]
  },
  {
   "cell_type": "code",
   "execution_count": null,
   "id": "c9f21160",
   "metadata": {
    "id": "c9f21160"
   },
   "outputs": [],
   "source": [
    "users = base_df['nickname'].unique()"
   ]
  },
  {
   "cell_type": "code",
   "execution_count": null,
   "id": "a70ec2f4",
   "metadata": {
    "id": "a70ec2f4"
   },
   "outputs": [],
   "source": [
    "followers = []\n",
    "yields = []\n",
    "users = base_df['nickname'].unique()\n",
    "\n",
    "for user in users:\n",
    "    user_info = pulse.get_user_info(user)\n",
    "\n",
    "    followers.append(user_info['followersCount'])\n",
    "    yields.append(user_info['statistics']['yearRelativeYield'])\n",
    "\n",
    "users_info = pd.DataFrame({'users': users, 'yields': yields, 'followers', followers})"
   ]
  },
  {
   "cell_type": "code",
   "execution_count": null,
   "id": "3aa53c04",
   "metadata": {
    "id": "3aa53c04"
   },
   "outputs": [],
   "source": [
    "user_info['statistics']['yearRelativeYield']"
   ]
  },
  {
   "cell_type": "code",
   "execution_count": null,
   "id": "6f202ed5",
   "metadata": {
    "id": "6f202ed5"
   },
   "outputs": [],
   "source": []
  }
 ],
 "metadata": {
  "colab": {
   "include_colab_link": true,
   "provenance": []
  },
  "kernelspec": {
   "display_name": "Python 3 (ipykernel)",
   "language": "python",
   "name": "python3"
  },
  "language_info": {
   "codemirror_mode": {
    "name": "ipython",
    "version": 3
   },
   "file_extension": ".py",
   "mimetype": "text/x-python",
   "name": "python",
   "nbconvert_exporter": "python",
   "pygments_lexer": "ipython3",
   "version": "3.11.5"
  }
 },
 "nbformat": 4,
 "nbformat_minor": 5
}
