{
  "cells": [
    {
      "cell_type": "markdown",
      "metadata": {
        "id": "view-in-github",
        "colab_type": "text"
      },
      "source": [
        "<a href=\"https://colab.research.google.com/github/efearase/RL_with_sentiment/blob/main/pulse_parsin.ipynb\" target=\"_parent\"><img src=\"https://colab.research.google.com/assets/colab-badge.svg\" alt=\"Open In Colab\"/></a>"
      ]
    },
    {
      "cell_type": "code",
      "execution_count": null,
      "id": "a8c5ea3e",
      "metadata": {
        "id": "a8c5ea3e"
      },
      "outputs": [],
      "source": [
        "import pandas as pd\n",
        "import numpy as np\n",
        "import matplotlib.pyplot as plt\n",
        "from httpx import ReadTimeout\n",
        "from tpulse import TinkoffPulse\n",
        "from httpx import HTTPStatusError\n",
        "import time\n",
        "import os\n",
        "from IPython.display import clear_output\n",
        "from pprint import pp\n",
        "from dostoevsky.tokenization import RegexTokenizer\n",
        "from dostoevsky.models import FastTextSocialNetworkModel"
      ]
    },
    {
      "cell_type": "code",
      "execution_count": null,
      "id": "a0232bdc",
      "metadata": {
        "id": "a0232bdc"
      },
      "outputs": [],
      "source": [
        "names = pd.read_csv('Export_ru_securities-list_20240129.csv', encoding='windows-1251', delimiter=';', quotechar='\"')"
      ]
    },
    {
      "cell_type": "code",
      "execution_count": null,
      "id": "9fec2c5b",
      "metadata": {
        "scrolled": true,
        "id": "9fec2c5b"
      },
      "outputs": [],
      "source": [
        "codes = names[((names['LIST_SECTION']=='Первый уровень')) & (names['SUPERTYPE']=='Акции')]['TRADE_CODE'].dropna()"
      ]
    },
    {
      "cell_type": "code",
      "execution_count": null,
      "id": "058820fa",
      "metadata": {
        "id": "058820fa",
        "outputId": "1b1c4bcf-eb9a-409a-d111-d06b0991d593"
      },
      "outputs": [
        {
          "data": {
            "text/plain": [
              "Timestamp('2024-02-29 17:14:02.537048064')"
            ]
          },
          "execution_count": 4,
          "metadata": {},
          "output_type": "execute_result"
        }
      ],
      "source": [
        "date = pd.to_datetime(time.time(), unit='s')\n",
        "date"
      ]
    },
    {
      "cell_type": "code",
      "execution_count": null,
      "id": "e8ffd3e9",
      "metadata": {
        "id": "e8ffd3e9"
      },
      "outputs": [],
      "source": [
        "def datareader_optimized(ticker):\n",
        "    cursor = 999999999\n",
        "    t_0 = time.time()\n",
        "    KEYS = [\"id\", \"nickname\", \"content\", \"inserted\"]\n",
        "    date = pd.to_datetime(time.time(), unit='s').tz_localize('UTC')\n",
        "    fin_date = pd.to_datetime('2022-03-29').tz_localize('UTC')\n",
        "    pulse = TinkoffPulse()  # Assuming this is defined elsewhere\n",
        "\n",
        "    # Initialize an empty DataFrame with specified types if possible\n",
        "    base_df = pd.DataFrame(columns=[\"id\", \"nickname\", \"text\", \"inserted\"])\n",
        "\n",
        "    while date >= fin_date:\n",
        "        try:\n",
        "            if time.time() - t_0 > 1:\n",
        "                print(f\"{date}, {ticker}\")\n",
        "                clear_output(wait=True)\n",
        "                t_0 = time.time()\n",
        "            response = pulse.get_posts_by_ticker(ticker, cursor)\n",
        "            cursor = response[\"nextCursor\"]\n",
        "            posts = response[\"items\"]\n",
        "\n",
        "            chunk_data = []\n",
        "            for post in posts:\n",
        "                data = {key: post[key] for key in KEYS if key in post}\n",
        "                data['text'] = data['content'].get('text', None) if isinstance(data.get('content'), dict) else None\n",
        "                data['inserted'] = pd.to_datetime(data['inserted']).strftime('%Y-%m-%d')\n",
        "                del data['content']\n",
        "                chunk_data.append(data)\n",
        "                date = pd.to_datetime(post['inserted'])\n",
        "            if chunk_data:\n",
        "                chunk_df = pd.DataFrame(chunk_data)\n",
        "                base_df = pd.concat([base_df, chunk_df], ignore_index=True)\n",
        "\n",
        "        except (HTTPStatusError, TimeoutError, KeyError, ReadTimeout, NameError, TypeError) as e:\n",
        "            print(f\"Encountered an error: {e}. Continuing...\")\n",
        "            date = pd.to_datetime(date.timestamp() - 24 * 60 * 60, unit = 's').tz_localize('UTC')\n",
        "            pass\n",
        "\n",
        "        time.sleep(0.25)\n",
        "\n",
        "    base_df.to_csv(f\"data/text_{ticker}.csv\", index=False)\n",
        "    users = base_df['nickname'].unique()\n",
        "\n",
        "    return users"
      ]
    },
    {
      "cell_type": "code",
      "execution_count": null,
      "id": "7f135db0-d712-4d6e-af4e-3d3c875cbf22",
      "metadata": {
        "id": "7f135db0-d712-4d6e-af4e-3d3c875cbf22"
      },
      "outputs": [],
      "source": []
    },
    {
      "cell_type": "code",
      "execution_count": null,
      "id": "6558b1b9-d347-4c95-a4fa-fdc0712241fd",
      "metadata": {
        "id": "6558b1b9-d347-4c95-a4fa-fdc0712241fd"
      },
      "outputs": [],
      "source": [
        "def check(name):\n",
        "    for file in os.listdir('data'):\n",
        "        if name in file:\n",
        "            return 1\n",
        "    return 0"
      ]
    },
    {
      "cell_type": "code",
      "execution_count": null,
      "id": "1487aaf5",
      "metadata": {
        "scrolled": true,
        "id": "1487aaf5",
        "outputId": "b396598c-5d18-4107-b4e3-9d4bde51462d"
      },
      "outputs": [
        {
          "name": "stdout",
          "output_type": "stream",
          "text": [
            "2022-03-30 09:16:56.240000+03:00, TATNP\n"
          ]
        }
      ],
      "source": [
        "users_set = set()  # Use a set to automatically handle unique entries\n",
        "for code in codes:\n",
        "    if not check(code):  # Assuming check is a function defined elsewhere\n",
        "        new_users = datareader_optimized(code)  # Collect new users from the optimized function\n",
        "        users_set.update(new_users)  # Efficiently add new users, automatically avoiding duplicates\n",
        "\n",
        "users = list(users_set)"
      ]
    },
    {
      "cell_type": "code",
      "execution_count": null,
      "id": "6ca0d12e",
      "metadata": {
        "scrolled": true,
        "id": "6ca0d12e",
        "outputId": "ee2ce396-b2a8-47ad-8462-99c16abaed17"
      },
      "outputs": [
        {
          "ename": "NameError",
          "evalue": "name 'pulse' is not defined",
          "output_type": "error",
          "traceback": [
            "\u001b[0;31m---------------------------------------------------------------------------\u001b[0m",
            "\u001b[0;31mNameError\u001b[0m                                 Traceback (most recent call last)",
            "Cell \u001b[0;32mIn[8], line 1\u001b[0m\n\u001b[0;32m----> 1\u001b[0m user_info \u001b[38;5;241m=\u001b[39m \u001b[43mpulse\u001b[49m\u001b[38;5;241m.\u001b[39mget_user_info(users[\u001b[38;5;241m0\u001b[39m])\n\u001b[1;32m      2\u001b[0m \u001b[38;5;28mprint\u001b[39m(user_info[\u001b[38;5;124m'\u001b[39m\u001b[38;5;124mfollowersCount\u001b[39m\u001b[38;5;124m'\u001b[39m])\n\u001b[1;32m      3\u001b[0m \u001b[38;5;28;01mif\u001b[39;00m \u001b[38;5;124m'\u001b[39m\u001b[38;5;124mstatistics\u001b[39m\u001b[38;5;124m'\u001b[39m \u001b[38;5;129;01min\u001b[39;00m user_info\u001b[38;5;241m.\u001b[39mkeys():\n",
            "\u001b[0;31mNameError\u001b[0m: name 'pulse' is not defined"
          ]
        }
      ],
      "source": [
        "user_info = pulse.get_user_info(users[0])\n",
        "print(user_info['followersCount'])\n",
        "if 'statistics' in user_info.keys():\n",
        "    print(user_info['statistics']['yearRelativeYield'])"
      ]
    },
    {
      "cell_type": "code",
      "execution_count": null,
      "id": "65435ced",
      "metadata": {
        "id": "65435ced"
      },
      "outputs": [],
      "source": [
        "retries = 5\n",
        "yields = []\n",
        "followers = []\n",
        "\n",
        "for attempt in range(retries):\n",
        "    try:\n",
        "        for user in users:\n",
        "            user_info = pulse.get_user_info(user)\n",
        "            followers.append(user_info['followersCount'])\n",
        "            if 'statistics' in user_info.keys():\n",
        "                yields.append(user_info['statistics']['yearRelativeYield'])\n",
        "\n",
        "    except ReadTimeout or ValueError or TimeoutError:\n",
        "        print(f\"Request timed out. Attempt {attempt+1} of {retries}. Retrying...\")\n",
        "        if attempt == retries - 1:\n",
        "            print(\"Final attempt failed. Moving on to the next ticker...\")\n",
        "            pass\n",
        "        time.sleep(some_seconds)\n",
        "    except Exception as e:\n",
        "        print(f\"An error occurred: {e}\")\n",
        "        break\n",
        "\n",
        "users_info = pd.DataFrame({'users': users, 'yields': yields, 'followers': followers})\n",
        "\n",
        "users_info.to_csv(\"users_info.csv\")"
      ]
    },
    {
      "cell_type": "code",
      "execution_count": null,
      "id": "c9f21160",
      "metadata": {
        "id": "c9f21160"
      },
      "outputs": [],
      "source": [
        "users = base_df['nickname'].unique()"
      ]
    },
    {
      "cell_type": "code",
      "execution_count": null,
      "id": "a70ec2f4",
      "metadata": {
        "id": "a70ec2f4"
      },
      "outputs": [],
      "source": [
        "followers = []\n",
        "yields = []\n",
        "users = base_df['nickname'].unique()\n",
        "\n",
        "for user in users:\n",
        "    user_info = pulse.get_user_info(user)\n",
        "\n",
        "    followers.append(user_info['followersCount'])\n",
        "    yields.append(user_info['statistics']['yearRelativeYield'])\n",
        "\n",
        "users_info = pd.DataFrame({'users': users, 'yields': yields, 'followers', followers})"
      ]
    },
    {
      "cell_type": "code",
      "execution_count": null,
      "id": "3aa53c04",
      "metadata": {
        "id": "3aa53c04"
      },
      "outputs": [],
      "source": [
        "user_info['statistics']['yearRelativeYield']"
      ]
    },
    {
      "cell_type": "code",
      "execution_count": null,
      "id": "6f202ed5",
      "metadata": {
        "id": "6f202ed5"
      },
      "outputs": [],
      "source": []
    }
  ],
  "metadata": {
    "kernelspec": {
      "display_name": "Python 3 (ipykernel)",
      "language": "python",
      "name": "python3"
    },
    "language_info": {
      "codemirror_mode": {
        "name": "ipython",
        "version": 3
      },
      "file_extension": ".py",
      "mimetype": "text/x-python",
      "name": "python",
      "nbconvert_exporter": "python",
      "pygments_lexer": "ipython3",
      "version": "3.11.0"
    },
    "colab": {
      "provenance": [],
      "include_colab_link": true
    }
  },
  "nbformat": 4,
  "nbformat_minor": 5
}