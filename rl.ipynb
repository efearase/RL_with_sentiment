{
  "cells": [
    {
      "cell_type": "markdown",
      "metadata": {
        "id": "view-in-github",
        "colab_type": "text"
      },
      "source": [
        "<a href=\"https://colab.research.google.com/github/efearase/RL_with_sentiment/blob/main/rl.ipynb\" target=\"_parent\"><img src=\"https://colab.research.google.com/assets/colab-badge.svg\" alt=\"Open In Colab\"/></a>"
      ]
    },
    {
      "cell_type": "code",
      "execution_count": null,
      "id": "0908548b-0de8-4f60-a483-9ff731e47aa4",
      "metadata": {
        "id": "0908548b-0de8-4f60-a483-9ff731e47aa4"
      },
      "outputs": [],
      "source": [
        "import gym\n",
        "import numpy as np\n",
        "from stable_baselines3 import PPO\n",
        "from stable_baselines3.common.vec_env import DummyVecEnv\n",
        "from stable_baselines3.common.env_util import make_vec_env"
      ]
    },
    {
      "cell_type": "code",
      "execution_count": null,
      "id": "5ba9c0ef-3dbb-4713-8c59-b3081741dad7",
      "metadata": {
        "id": "5ba9c0ef-3dbb-4713-8c59-b3081741dad7"
      },
      "outputs": [],
      "source": [
        "class StockTradingEnv(gym.Env):\n",
        "    metadata = {'render.modes': ['human']}\n",
        "\n",
        "    def __init__(self, df, initial_balance=10000, lookback_window_size=50):\n",
        "        super(StockTradingEnv, self).__init__()\n",
        "\n",
        "        # Dataframe containing stock prices\n",
        "        self.df = df\n",
        "        self.lookback_window_size = lookback_window_size\n",
        "\n",
        "        # Action space: 0 = Hold, 1 = Buy, 2 = Sell\n",
        "        self.action_space = spaces.Discrete(3)\n",
        "\n",
        "        # Observation space: Prices for the last N days + owned shares + cash balance\n",
        "        self.observation_space = spaces.Box(low=0, high=np.inf, shape=(lookback_window_size + 2,), dtype=np.float32)\n",
        "\n",
        "        # Initial conditions\n",
        "        self.initial_balance = initial_balance\n",
        "        self.reset()\n",
        "\n",
        "    def reset(self):\n",
        "        # Reset the state of the environment to an initial state\n",
        "        self.balance = self.initial_balance\n",
        "        self.net_worth = self.initial_balance\n",
        "        self.shares_held = 0\n",
        "        self.current_step = 0\n",
        "\n",
        "        # Return the initial observation\n",
        "        return self._next_observation()\n",
        "\n",
        "    def _next_observation(self):\n",
        "        # Get the stock data for the last N days\n",
        "        frame = self.df.loc[self.current_step:self.current_step + self.lookback_window_size].to_numpy()\n",
        "\n",
        "        # Append additional data (shares held and balance)\n",
        "        obs = np.append(frame, [[self.shares_held, self.balance]], axis=0)\n",
        "\n",
        "        return obs.flatten()\n",
        "\n",
        "    def step(self, action):\n",
        "        # Execute one time step within the environment\n",
        "        self.current_step += 1\n",
        "\n",
        "        # Get current stock price\n",
        "        current_price = self.df.loc[self.current_step, 'Close']\n",
        "\n",
        "        reward = 0\n",
        "\n",
        "        if action == 1:  # Buy\n",
        "            # Calculate the number of shares to buy\n",
        "            total_possible = self.balance // current_price\n",
        "            self.shares_held += total_possible\n",
        "            self.balance -= total_possible * current_price\n",
        "\n",
        "        elif action == 2:  # Sell\n",
        "            # Sell all shares\n",
        "            self.balance += self.shares_held * current_price\n",
        "            reward += self.shares_held * current_price\n",
        "            self.shares_held = 0\n",
        "\n",
        "        # Update net worth\n",
        "        self.net_worth = self.balance + self.shares_held * current_price\n",
        "\n",
        "        done = self.net_worth <= 0 or self.current_step > len(self.df) - self.lookback_window_size - 1\n",
        "\n",
        "        return self._next_observation(), reward, done, {}\n",
        "\n",
        "    def render(self, mode='human', close=False):\n",
        "        # Render the environment to the screen\n",
        "        print(f'Step: {self.current_step}')\n",
        "        print(f'Balance: {self.balance}')\n",
        "        print(f'Shares held: {self.shares_held}')\n",
        "        print(f'Net worth: {self.net_worth}')"
      ]
    },
    {
      "cell_type": "code",
      "execution_count": null,
      "id": "b1416849-20dc-45cc-8354-13fe7c601a90",
      "metadata": {
        "id": "b1416849-20dc-45cc-8354-13fe7c601a90"
      },
      "outputs": [],
      "source": [
        "# env = StockTradingEnv(df)\n",
        "\n",
        "# env = make_vec_env(lambda: env, n_envs=1)\n",
        "\n",
        "# model = PPO(\"MlpPolicy\", env, verbose=1)\n",
        "# model.learn(total_timesteps=20000)\n",
        "\n",
        "# obs = env.reset()\n",
        "# for i in range(1000):\n",
        "#     action, _states = model.predict(obs, deterministic=True)\n",
        "#     obs, rewards, dones, info = env.step(action)\n",
        "#     env.render()  # Assuming your environment supports rendering"
      ]
    },
    {
      "cell_type": "code",
      "execution_count": null,
      "id": "99fe3873-d935-4409-8a59-8ae08b479a24",
      "metadata": {
        "id": "99fe3873-d935-4409-8a59-8ae08b479a24"
      },
      "outputs": [],
      "source": []
    }
  ],
  "metadata": {
    "kernelspec": {
      "display_name": "Python 3 (ipykernel)",
      "language": "python",
      "name": "python3"
    },
    "language_info": {
      "codemirror_mode": {
        "name": "ipython",
        "version": 3
      },
      "file_extension": ".py",
      "mimetype": "text/x-python",
      "name": "python",
      "nbconvert_exporter": "python",
      "pygments_lexer": "ipython3",
      "version": "3.11.0"
    },
    "colab": {
      "provenance": [],
      "include_colab_link": true
    }
  },
  "nbformat": 4,
  "nbformat_minor": 5
}