{
  "cells": [
    {
      "cell_type": "markdown",
      "metadata": {
        "id": "view-in-github",
        "colab_type": "text"
      },
      "source": [
        "<a href=\"https://colab.research.google.com/github/efearase/RL_with_sentiment/blob/main/text_processing.ipynb\" target=\"_parent\"><img src=\"https://colab.research.google.com/assets/colab-badge.svg\" alt=\"Open In Colab\"/></a>"
      ]
    },
    {
      "cell_type": "code",
      "execution_count": null,
      "id": "6ccd18c1",
      "metadata": {
        "scrolled": true,
        "id": "6ccd18c1",
        "outputId": "1a73371c-ddf3-4b79-828c-671735bb923b"
      },
      "outputs": [
        {
          "name": "stderr",
          "output_type": "stream",
          "text": [
            "/home/gni/miniconda3/envs/venv/lib/python3.11/site-packages/tqdm/auto.py:21: TqdmWarning: IProgress not found. Please update jupyter and ipywidgets. See https://ipywidgets.readthedocs.io/en/stable/user_install.html\n",
            "  from .autonotebook import tqdm as notebook_tqdm\n",
            "2024-02-29 17:13:16.294431: E external/local_xla/xla/stream_executor/cuda/cuda_dnn.cc:9261] Unable to register cuDNN factory: Attempting to register factory for plugin cuDNN when one has already been registered\n",
            "2024-02-29 17:13:16.294472: E external/local_xla/xla/stream_executor/cuda/cuda_fft.cc:607] Unable to register cuFFT factory: Attempting to register factory for plugin cuFFT when one has already been registered\n",
            "2024-02-29 17:13:16.295192: E external/local_xla/xla/stream_executor/cuda/cuda_blas.cc:1515] Unable to register cuBLAS factory: Attempting to register factory for plugin cuBLAS when one has already been registered\n",
            "2024-02-29 17:13:16.300067: I tensorflow/core/platform/cpu_feature_guard.cc:182] This TensorFlow binary is optimized to use available CPU instructions in performance-critical operations.\n",
            "To enable the following instructions: AVX2 FMA, in other operations, rebuild TensorFlow with the appropriate compiler flags.\n",
            "2024-02-29 17:13:16.917213: W tensorflow/compiler/tf2tensorrt/utils/py_utils.cc:38] TF-TRT Warning: Could not find TensorRT\n"
          ]
        }
      ],
      "source": [
        "import pandas as pd\n",
        "import numpy as np\n",
        "from dostoevsky.tokenization import RegexTokenizer\n",
        "from dostoevsky.models import FastTextSocialNetworkModel\n",
        "from transformers import pipeline\n",
        "import matplotlib.pyplot as plt\n",
        "import os\n",
        "from IPython.display import clear_output\n",
        "\n",
        "classifier = pipeline('sentiment-analysis', model='blanchefort/rubert-base-cased-sentiment')"
      ]
    },
    {
      "cell_type": "code",
      "execution_count": null,
      "id": "dca0acb3",
      "metadata": {
        "id": "dca0acb3"
      },
      "outputs": [],
      "source": [
        "df = pd.read_csv(\"data/text_CBOM.csv\", index_col=0)"
      ]
    },
    {
      "cell_type": "code",
      "execution_count": null,
      "id": "70364a1f",
      "metadata": {
        "id": "70364a1f",
        "outputId": "80c463de-92bb-4237-a2d4-bd4b57ebd845"
      },
      "outputs": [
        {
          "name": "stdout",
          "output_type": "stream",
          "text": [
            "367.3\n"
          ]
        }
      ],
      "source": [
        "s = 0\n",
        "for i in range(len(df)):\n",
        "    s += len(df['text'][i])\n",
        "\n",
        "print(s//1000* 0.0020 * 50)"
      ]
    },
    {
      "cell_type": "code",
      "execution_count": null,
      "id": "f8745c16-31f6-423c-8396-a51d43b50c73",
      "metadata": {
        "id": "f8745c16-31f6-423c-8396-a51d43b50c73"
      },
      "outputs": [],
      "source": [
        "def filter_text(input_text):\n",
        "    allowed_chars = set(\n",
        "        'abcdefghijklmnopqrstuvwxyzABCDEFGHIJKLMNOPQRSTUVWXYZ'\n",
        "        '0123456789 .,!?:;'\n",
        "        'абвгдеёжзийклмнопрстуфхцчшщъыьэюя'\n",
        "        'АБВГДЕЁЖЗИЙКЛМНОПРСТУФХЦЧШЩЪЫЬЭЮЯ'\n",
        "    )\n",
        "    return ''.join(c for c in input_text if c in allowed_chars)\n",
        "\n",
        "def select_message(text, name='CBOM'):\n",
        "    arr = text.split(\".\")\n",
        "    return ''.join(sent for sent in arr if name in sent)"
      ]
    },
    {
      "cell_type": "code",
      "execution_count": null,
      "id": "747e5559-94c8-49ec-ac74-e73390734e4d",
      "metadata": {
        "scrolled": true,
        "id": "747e5559-94c8-49ec-ac74-e73390734e4d",
        "outputId": "a4a2ffaf-ce3b-430c-e5e6-e5c557c38ced"
      },
      "outputs": [
        {
          "name": "stderr",
          "output_type": "stream",
          "text": [
            "Warning : `load_model` does not return WordVectorModel or SupervisedModel any more, but a `FastText` object which is very similar.\n"
          ]
        }
      ],
      "source": [
        "tokenizer = RegexTokenizer()\n",
        "tokens = tokenizer.split('всё очень плохо')  # [('всё', None), ('очень', None), ('плохо', None)]\n",
        "\n",
        "model = FastTextSocialNetworkModel(tokenizer=tokenizer)"
      ]
    },
    {
      "cell_type": "code",
      "execution_count": null,
      "id": "13eb049e-33ac-44d9-9444-52a3ab08e729",
      "metadata": {
        "id": "13eb049e-33ac-44d9-9444-52a3ab08e729"
      },
      "outputs": [],
      "source": [
        "def sentiment(df):\n",
        "    sentiment_class = []\n",
        "    sentiment_score = []\n",
        "    classifier = pipeline('sentiment-analysis', model='blanchefort/rubert-base-cased-sentiment')\n",
        "    t_0 = 0\n",
        "    print('Start fancy...')\n",
        "    batch_results = []  # Initialize batch_results to an empty list\n",
        "    for i in range(len(df)):\n",
        "        if i - t_0 > 100:\n",
        "            print(f\"progress: {round(i/len(df)*100, 2)}%\")\n",
        "            clear_output(wait=True)\n",
        "            t_0 = i\n",
        "        try:\n",
        "            res = classifier(df['text'][i])\n",
        "        except Exception as e:\n",
        "            try:\n",
        "                # If the initial classification fails, try with a truncated version of the text\n",
        "                res = classifier(df['text'][i][:512])\n",
        "            except Exception as e:\n",
        "                # If it still fails, skip this record or use a default value\n",
        "                print(f\"Error processing text at index {i}: {e}\")\n",
        "                res = [{'label': 'neutral', 'score': 0}]  # Example default value\n",
        "        batch_results.extend(res)\n",
        "\n",
        "    sentiment_class = [res['label'] for res in batch_results]\n",
        "    sentiment_score = [res['score'] for res in batch_results]\n",
        "\n",
        "    df['sentiment_class'] = sentiment_class\n",
        "    df['sentiment_score'] = sentiment_score\n",
        "\n",
        "    dostoevski_label = []\n",
        "    dostoevski_score = []\n",
        "    for result in results:\n",
        "        dostoevski_label.append(list(result.keys())[0])\n",
        "        dostoevski_score.append(list(result.values())[0])\n",
        "\n",
        "    df['dostoevski_class'] = dostoevski_label\n",
        "    df['dostoevski_score'] = dostoevski_score\n",
        "\n",
        "    replacement_dict = {'positive': 1, 'negative': -1, 'neutral': 0,\n",
        "                       'POSITIVE': 1, 'NEGATIVE': -1, 'NEUTRAL': 0, 'speech' : 0, 'skip': 0}\n",
        "\n",
        "    df.replace(replacement_dict, inplace=True)\n",
        "\n",
        "    df['bert_score'] = df['sentiment_class']*df['sentiment_score']\n",
        "    df['dostoevski_score'] = df['dostoevski_class']*df['dostoevski_score']\n",
        "\n",
        "    df.drop(columns=['id', 'sentiment_class', 'sentiment_score', 'dostoevski_label', 'dostoevski_label'], inplace =True)\n",
        "\n",
        "    return df"
      ]
    },
    {
      "cell_type": "code",
      "execution_count": null,
      "id": "8c600184-29bc-4c66-ba92-7576120478f5",
      "metadata": {
        "id": "8c600184-29bc-4c66-ba92-7576120478f5",
        "outputId": "0a98c70d-fd7c-43e9-abf5-9c3cd00cea36"
      },
      "outputs": [
        {
          "name": "stdout",
          "output_type": "stream",
          "text": [
            "progress: 38.6%\n"
          ]
        }
      ],
      "source": [
        "for file in os.listdir('data'):\n",
        "    print(file)\n",
        "    if file.endswith('csv') and file not in os.listdir('text_data'):\n",
        "        ticker = file.split(\"_\")[1].split(\".\")[0]\n",
        "        def select_message(text, name=ticker):\n",
        "            arr = text.split(\".\")\n",
        "            return ''.join(sent for sent in arr if name in sent)\n",
        "        df = pd.read_csv(\"data/\" + file, index_col=0)\n",
        "        try:\n",
        "            df[\"text\"].apply(filter_text)\n",
        "            df[\"text\"].apply(select_message)\n",
        "        except TypeError:\n",
        "            pass\n",
        "        print('getting sentiment...')\n",
        "        df = sentiment(df)\n",
        "        df.to_csv(\"text_data/\" + file)"
      ]
    },
    {
      "cell_type": "code",
      "execution_count": null,
      "id": "ec43ace0-2198-48e0-8d44-12db01d719a7",
      "metadata": {
        "id": "ec43ace0-2198-48e0-8d44-12db01d719a7"
      },
      "outputs": [],
      "source": []
    }
  ],
  "metadata": {
    "kernelspec": {
      "display_name": "Python 3 (ipykernel)",
      "language": "python",
      "name": "python3"
    },
    "language_info": {
      "codemirror_mode": {
        "name": "ipython",
        "version": 3
      },
      "file_extension": ".py",
      "mimetype": "text/x-python",
      "name": "python",
      "nbconvert_exporter": "python",
      "pygments_lexer": "ipython3",
      "version": "3.11.0"
    },
    "colab": {
      "provenance": [],
      "include_colab_link": true
    }
  },
  "nbformat": 4,
  "nbformat_minor": 5
}